{
 "cells": [
  {
   "cell_type": "code",
   "execution_count": 10,
   "id": "54820042",
   "metadata": {},
   "outputs": [],
   "source": [
    "import pandas as pd\n",
    "import os\n",
    "import numpy as np\n",
    "import matplotlib.pyplot as plt\n",
    "\n",
    "os.chdir(r\"D:\\wine_review\\output\")\n"
   ]
  },
  {
   "cell_type": "code",
   "execution_count": 2,
   "id": "9c8a8b0f",
   "metadata": {},
   "outputs": [],
   "source": [
    "data = pd.read_csv(r\"modelling_data_output.csv\")"
   ]
  },
  {
   "cell_type": "code",
   "execution_count": 3,
   "id": "90034059",
   "metadata": {},
   "outputs": [],
   "source": [
    "\n",
    "def string_length(x):\n",
    "    string_len = len(x)\n",
    "    return string_len"
   ]
  },
  {
   "cell_type": "code",
   "execution_count": 4,
   "id": "896e0c2d",
   "metadata": {},
   "outputs": [],
   "source": [
    "data = data[~data[\"price\"].isna()]\n",
    "data['log_price'] = np.log(data['price'])\n",
    "data['description_length'] = data['cleaned_description'].apply(string_length)"
   ]
  },
  {
   "cell_type": "code",
   "execution_count": 5,
   "id": "e7d7a78d",
   "metadata": {},
   "outputs": [],
   "source": [
    "columns = [i for i in data.columns if i not in ['id', 'cleaned_description', 'price','points', 'quality']]"
   ]
  },
  {
   "cell_type": "code",
   "execution_count": 6,
   "id": "8b2dcdd3",
   "metadata": {},
   "outputs": [],
   "source": [
    "X = data[columns]\n",
    "y = data[['quality']]"
   ]
  },
  {
   "cell_type": "code",
   "execution_count": 7,
   "id": "d3204845",
   "metadata": {},
   "outputs": [],
   "source": [
    "# Splitting the dataset into the Training set and Test set\n",
    "from sklearn.model_selection  import train_test_split\n",
    "X_train, X_test, y_train, y_test = train_test_split(X, y, test_size = 0.20, random_state = 5)"
   ]
  },
  {
   "cell_type": "code",
   "execution_count": 8,
   "id": "960fa00c",
   "metadata": {},
   "outputs": [],
   "source": [
    "#Using Principal Dimensional Reduction\n",
    "#from sklearn.decomposition import PCA\n",
    "#pca = PCA(n_components = 4)\n"
   ]
  },
  {
   "cell_type": "code",
   "execution_count": 11,
   "id": "2904c9c0",
   "metadata": {},
   "outputs": [
    {
     "data": {
      "image/png": "[encoded data removed]",
      "text/plain": [
       "<Figure size 432x288 with 1 Axes>"
      ]
     },
     "metadata": {
      "needs_background": "light"
     },
     "output_type": "display_data"
    }
   ],
   "source": [
    "from sklearn.decomposition import PCA\n",
    "import numpy as np\n",
    "\n",
    "# Perform PCA\n",
    "pca = PCA().fit(X)\n",
    "\n",
    "# Plot explained variance ratio\n",
    "plt.plot(np.cumsum(pca.explained_variance_ratio_))\n",
    "plt.xlabel('Number of Components')\n",
    "plt.ylabel('Cumulative Explained Variance')\n",
    "plt.xlim([1,100])\n",
    "plt.show()"
   ]
  },
  {
   "cell_type": "code",
   "execution_count": 12,
   "id": "cc93d09b",
   "metadata": {},
   "outputs": [],
   "source": [
    "#Using Principal Dimensional Reduction\n",
    "from sklearn.decomposition import PCA\n",
    "pca = PCA(n_components = 4)"
   ]
  },
  {
   "cell_type": "code",
   "execution_count": 13,
   "id": "55c7c427",
   "metadata": {},
   "outputs": [],
   "source": [
    "X_train = pca.fit_transform(X_train)\n",
    "X_test = pca.transform(X_test)\n",
    "explained_variance = pca.explained_variance_ratio_\n",
    "pca_df = pd.DataFrame(explained_variance)"
   ]
  },
  {
   "cell_type": "code",
   "execution_count": 14,
   "id": "d34bed3f",
   "metadata": {},
   "outputs": [
    {
     "name": "stderr",
     "output_type": "stream",
     "text": [
      "C:\\Users\\VineetSajwan\\anaconda3\\lib\\site-packages\\xgboost\\compat.py:36: FutureWarning: pandas.Int64Index is deprecated and will be removed from pandas in a future version. Use pandas.Index with the appropriate dtype instead.\n",
      "  from pandas import MultiIndex, Int64Index\n",
      " 90%|████████████████████████████████████████████████████████████████████████▌        | 26/29 [16:48<11:51, 237.25s/it]"
     ]
    },
    {
     "name": "stdout",
     "output_type": "stream",
     "text": [
      "[01:11:18] WARNING: C:/Users/Administrator/workspace/xgboost-win64_release_1.5.1/src/learner.cc:1115: Starting in XGBoost 1.3.0, the default evaluation metric used with the objective 'multi:softprob' was changed from 'merror' to 'mlogloss'. Explicitly set eval_metric if you'd like to restore the old behavior.\n"
     ]
    },
    {
     "name": "stderr",
     "output_type": "stream",
     "text": [
      "100%|██████████████████████████████████████████████████████████████████████████████████| 29/29 [17:21<00:00, 35.90s/it]"
     ]
    },
    {
     "name": "stdout",
     "output_type": "stream",
     "text": [
      "                               Accuracy  Balanced Accuracy ROC AUC  F1 Score  \\\n",
      "Model                                                                          \n",
      "RandomForestClassifier             0.80               0.75    None      0.80   \n",
      "ExtraTreesClassifier               0.80               0.74    None      0.80   \n",
      "BaggingClassifier                  0.77               0.73    None      0.77   \n",
      "DecisionTreeClassifier             0.74               0.71    None      0.74   \n",
      "ExtraTreeClassifier                0.73               0.69    None      0.73   \n",
      "NearestCentroid                    0.47               0.58    None      0.49   \n",
      "KNeighborsClassifier               0.60               0.50    None      0.60   \n",
      "AdaBoostClassifier                 0.53               0.50    None      0.53   \n",
      "XGBClassifier                      0.62               0.50    None      0.61   \n",
      "LGBMClassifier                     0.61               0.50    None      0.60   \n",
      "QuadraticDiscriminantAnalysis      0.58               0.44    None      0.57   \n",
      "LinearDiscriminantAnalysis         0.58               0.44    None      0.56   \n",
      "LogisticRegression                 0.59               0.42    None      0.57   \n",
      "SVC                                0.60               0.41    None      0.58   \n",
      "GaussianNB                         0.58               0.39    None      0.55   \n",
      "Perceptron                         0.44               0.38    None      0.38   \n",
      "PassiveAggressiveClassifier        0.44               0.36    None      0.43   \n",
      "SGDClassifier                      0.50               0.36    None      0.40   \n",
      "CalibratedClassifierCV             0.57               0.33    None      0.53   \n",
      "LinearSVC                          0.56               0.31    None      0.51   \n",
      "RidgeClassifier                    0.54               0.28    None      0.48   \n",
      "RidgeClassifierCV                  0.54               0.28    None      0.47   \n",
      "BernoulliNB                        0.49               0.25    None      0.43   \n",
      "DummyClassifier                    0.40               0.20    None      0.23   \n",
      "\n",
      "                               Time Taken  \n",
      "Model                                      \n",
      "RandomForestClassifier              27.28  \n",
      "ExtraTreesClassifier                11.94  \n",
      "BaggingClassifier                    5.20  \n",
      "DecisionTreeClassifier               1.10  \n",
      "ExtraTreeClassifier                  0.50  \n",
      "NearestCentroid                      0.36  \n",
      "KNeighborsClassifier                 1.62  \n",
      "AdaBoostClassifier                  11.16  \n",
      "XGBClassifier                       30.43  \n",
      "LGBMClassifier                       1.80  \n",
      "QuadraticDiscriminantAnalysis        0.42  \n",
      "LinearDiscriminantAnalysis           0.69  \n",
      "LogisticRegression                   2.22  \n",
      "SVC                                782.10  \n",
      "GaussianNB                           0.44  \n",
      "Perceptron                           0.62  \n",
      "PassiveAggressiveClassifier          0.61  \n",
      "SGDClassifier                        0.81  \n",
      "CalibratedClassifierCV             122.59  \n",
      "LinearSVC                           36.57  \n",
      "RidgeClassifier                      0.63  \n",
      "RidgeClassifierCV                    0.71  \n",
      "BernoulliNB                          0.62  \n",
      "DummyClassifier                      0.32  \n"
     ]
    },
    {
     "name": "stderr",
     "output_type": "stream",
     "text": [
      "\n"
     ]
    }
   ],
   "source": [
    "from lazypredict.Supervised import LazyClassifier\n",
    "\n",
    "clf = LazyClassifier(verbose=0, ignore_warnings=True, custom_metric=None)\n",
    "models, predictions = clf.fit(X_train, X_test, y_train, y_test)\n",
    "print(models)"
   ]
  },
  {
   "cell_type": "code",
   "execution_count": 15,
   "id": "33592d9d",
   "metadata": {},
   "outputs": [
    {
     "data": {
      "text/html": [
       "<div>\n",
       "<style scoped>\n",
       "    .dataframe tbody tr th:only-of-type {\n",
       "        vertical-align: middle;\n",
       "    }\n",
       "\n",
       "    .dataframe tbody tr th {\n",
       "        vertical-align: top;\n",
       "    }\n",
       "\n",
       "    .dataframe thead th {\n",
       "        text-align: right;\n",
       "    }\n",
       "</style>\n",
       "<table border=\"1\" class=\"dataframe\">\n",
       "  <thead>\n",
       "    <tr style=\"text-align: right;\">\n",
       "      <th></th>\n",
       "      <th>Accuracy</th>\n",
       "      <th>Balanced Accuracy</th>\n",
       "      <th>ROC AUC</th>\n",
       "      <th>F1 Score</th>\n",
       "      <th>Time Taken</th>\n",
       "    </tr>\n",
       "    <tr>\n",
       "      <th>Model</th>\n",
       "      <th></th>\n",
       "      <th></th>\n",
       "      <th></th>\n",
       "      <th></th>\n",
       "      <th></th>\n",
       "    </tr>\n",
       "  </thead>\n",
       "  <tbody>\n",
       "    <tr>\n",
       "      <th>RandomForestClassifier</th>\n",
       "      <td>0.80</td>\n",
       "      <td>0.75</td>\n",
       "      <td>None</td>\n",
       "      <td>0.80</td>\n",
       "      <td>27.28</td>\n",
       "    </tr>\n",
       "    <tr>\n",
       "      <th>ExtraTreesClassifier</th>\n",
       "      <td>0.80</td>\n",
       "      <td>0.74</td>\n",
       "      <td>None</td>\n",
       "      <td>0.80</td>\n",
       "      <td>11.94</td>\n",
       "    </tr>\n",
       "    <tr>\n",
       "      <th>BaggingClassifier</th>\n",
       "      <td>0.77</td>\n",
       "      <td>0.73</td>\n",
       "      <td>None</td>\n",
       "      <td>0.77</td>\n",
       "      <td>5.20</td>\n",
       "    </tr>\n",
       "    <tr>\n",
       "      <th>DecisionTreeClassifier</th>\n",
       "      <td>0.74</td>\n",
       "      <td>0.71</td>\n",
       "      <td>None</td>\n",
       "      <td>0.74</td>\n",
       "      <td>1.10</td>\n",
       "    </tr>\n",
       "    <tr>\n",
       "      <th>ExtraTreeClassifier</th>\n",
       "      <td>0.73</td>\n",
       "      <td>0.69</td>\n",
       "      <td>None</td>\n",
       "      <td>0.73</td>\n",
       "      <td>0.50</td>\n",
       "    </tr>\n",
       "    <tr>\n",
       "      <th>NearestCentroid</th>\n",
       "      <td>0.47</td>\n",
       "      <td>0.58</td>\n",
       "      <td>None</td>\n",
       "      <td>0.49</td>\n",
       "      <td>0.36</td>\n",
       "    </tr>\n",
       "    <tr>\n",
       "      <th>KNeighborsClassifier</th>\n",
       "      <td>0.60</td>\n",
       "      <td>0.50</td>\n",
       "      <td>None</td>\n",
       "      <td>0.60</td>\n",
       "      <td>1.62</td>\n",
       "    </tr>\n",
       "    <tr>\n",
       "      <th>AdaBoostClassifier</th>\n",
       "      <td>0.53</td>\n",
       "      <td>0.50</td>\n",
       "      <td>None</td>\n",
       "      <td>0.53</td>\n",
       "      <td>11.16</td>\n",
       "    </tr>\n",
       "    <tr>\n",
       "      <th>XGBClassifier</th>\n",
       "      <td>0.62</td>\n",
       "      <td>0.50</td>\n",
       "      <td>None</td>\n",
       "      <td>0.61</td>\n",
       "      <td>30.43</td>\n",
       "    </tr>\n",
       "    <tr>\n",
       "      <th>LGBMClassifier</th>\n",
       "      <td>0.61</td>\n",
       "      <td>0.50</td>\n",
       "      <td>None</td>\n",
       "      <td>0.60</td>\n",
       "      <td>1.80</td>\n",
       "    </tr>\n",
       "    <tr>\n",
       "      <th>QuadraticDiscriminantAnalysis</th>\n",
       "      <td>0.58</td>\n",
       "      <td>0.44</td>\n",
       "      <td>None</td>\n",
       "      <td>0.57</td>\n",
       "      <td>0.42</td>\n",
       "    </tr>\n",
       "    <tr>\n",
       "      <th>LinearDiscriminantAnalysis</th>\n",
       "      <td>0.58</td>\n",
       "      <td>0.44</td>\n",
       "      <td>None</td>\n",
       "      <td>0.56</td>\n",
       "      <td>0.69</td>\n",
       "    </tr>\n",
       "    <tr>\n",
       "      <th>LogisticRegression</th>\n",
       "      <td>0.59</td>\n",
       "      <td>0.42</td>\n",
       "      <td>None</td>\n",
       "      <td>0.57</td>\n",
       "      <td>2.22</td>\n",
       "    </tr>\n",
       "    <tr>\n",
       "      <th>SVC</th>\n",
       "      <td>0.60</td>\n",
       "      <td>0.41</td>\n",
       "      <td>None</td>\n",
       "      <td>0.58</td>\n",
       "      <td>782.10</td>\n",
       "    </tr>\n",
       "    <tr>\n",
       "      <th>GaussianNB</th>\n",
       "      <td>0.58</td>\n",
       "      <td>0.39</td>\n",
       "      <td>None</td>\n",
       "      <td>0.55</td>\n",
       "      <td>0.44</td>\n",
       "    </tr>\n",
       "    <tr>\n",
       "      <th>Perceptron</th>\n",
       "      <td>0.44</td>\n",
       "      <td>0.38</td>\n",
       "      <td>None</td>\n",
       "      <td>0.38</td>\n",
       "      <td>0.62</td>\n",
       "    </tr>\n",
       "    <tr>\n",
       "      <th>PassiveAggressiveClassifier</th>\n",
       "      <td>0.44</td>\n",
       "      <td>0.36</td>\n",
       "      <td>None</td>\n",
       "      <td>0.43</td>\n",
       "      <td>0.61</td>\n",
       "    </tr>\n",
       "    <tr>\n",
       "      <th>SGDClassifier</th>\n",
       "      <td>0.50</td>\n",
       "      <td>0.36</td>\n",
       "      <td>None</td>\n",
       "      <td>0.40</td>\n",
       "      <td>0.81</td>\n",
       "    </tr>\n",
       "    <tr>\n",
       "      <th>CalibratedClassifierCV</th>\n",
       "      <td>0.57</td>\n",
       "      <td>0.33</td>\n",
       "      <td>None</td>\n",
       "      <td>0.53</td>\n",
       "      <td>122.59</td>\n",
       "    </tr>\n",
       "    <tr>\n",
       "      <th>LinearSVC</th>\n",
       "      <td>0.56</td>\n",
       "      <td>0.31</td>\n",
       "      <td>None</td>\n",
       "      <td>0.51</td>\n",
       "      <td>36.57</td>\n",
       "    </tr>\n",
       "    <tr>\n",
       "      <th>RidgeClassifier</th>\n",
       "      <td>0.54</td>\n",
       "      <td>0.28</td>\n",
       "      <td>None</td>\n",
       "      <td>0.48</td>\n",
       "      <td>0.63</td>\n",
       "    </tr>\n",
       "    <tr>\n",
       "      <th>RidgeClassifierCV</th>\n",
       "      <td>0.54</td>\n",
       "      <td>0.28</td>\n",
       "      <td>None</td>\n",
       "      <td>0.47</td>\n",
       "      <td>0.71</td>\n",
       "    </tr>\n",
       "    <tr>\n",
       "      <th>BernoulliNB</th>\n",
       "      <td>0.49</td>\n",
       "      <td>0.25</td>\n",
       "      <td>None</td>\n",
       "      <td>0.43</td>\n",
       "      <td>0.62</td>\n",
       "    </tr>\n",
       "    <tr>\n",
       "      <th>DummyClassifier</th>\n",
       "      <td>0.40</td>\n",
       "      <td>0.20</td>\n",
       "      <td>None</td>\n",
       "      <td>0.23</td>\n",
       "      <td>0.32</td>\n",
       "    </tr>\n",
       "  </tbody>\n",
       "</table>\n",
       "</div>"
      ],
      "text/plain": [
       "                               Accuracy  Balanced Accuracy ROC AUC  F1 Score  \\\n",
       "Model                                                                          \n",
       "RandomForestClassifier             0.80               0.75    None      0.80   \n",
       "ExtraTreesClassifier               0.80               0.74    None      0.80   \n",
       "BaggingClassifier                  0.77               0.73    None      0.77   \n",
       "DecisionTreeClassifier             0.74               0.71    None      0.74   \n",
       "ExtraTreeClassifier                0.73               0.69    None      0.73   \n",
       "NearestCentroid                    0.47               0.58    None      0.49   \n",
       "KNeighborsClassifier               0.60               0.50    None      0.60   \n",
       "AdaBoostClassifier                 0.53               0.50    None      0.53   \n",
       "XGBClassifier                      0.62               0.50    None      0.61   \n",
       "LGBMClassifier                     0.61               0.50    None      0.60   \n",
       "QuadraticDiscriminantAnalysis      0.58               0.44    None      0.57   \n",
       "LinearDiscriminantAnalysis         0.58               0.44    None      0.56   \n",
       "LogisticRegression                 0.59               0.42    None      0.57   \n",
       "SVC                                0.60               0.41    None      0.58   \n",
       "GaussianNB                         0.58               0.39    None      0.55   \n",
       "Perceptron                         0.44               0.38    None      0.38   \n",
       "PassiveAggressiveClassifier        0.44               0.36    None      0.43   \n",
       "SGDClassifier                      0.50               0.36    None      0.40   \n",
       "CalibratedClassifierCV             0.57               0.33    None      0.53   \n",
       "LinearSVC                          0.56               0.31    None      0.51   \n",
       "RidgeClassifier                    0.54               0.28    None      0.48   \n",
       "RidgeClassifierCV                  0.54               0.28    None      0.47   \n",
       "BernoulliNB                        0.49               0.25    None      0.43   \n",
       "DummyClassifier                    0.40               0.20    None      0.23   \n",
       "\n",
       "                               Time Taken  \n",
       "Model                                      \n",
       "RandomForestClassifier              27.28  \n",
       "ExtraTreesClassifier                11.94  \n",
       "BaggingClassifier                    5.20  \n",
       "DecisionTreeClassifier               1.10  \n",
       "ExtraTreeClassifier                  0.50  \n",
       "NearestCentroid                      0.36  \n",
       "KNeighborsClassifier                 1.62  \n",
       "AdaBoostClassifier                  11.16  \n",
       "XGBClassifier                       30.43  \n",
       "LGBMClassifier                       1.80  \n",
       "QuadraticDiscriminantAnalysis        0.42  \n",
       "LinearDiscriminantAnalysis           0.69  \n",
       "LogisticRegression                   2.22  \n",
       "SVC                                782.10  \n",
       "GaussianNB                           0.44  \n",
       "Perceptron                           0.62  \n",
       "PassiveAggressiveClassifier          0.61  \n",
       "SGDClassifier                        0.81  \n",
       "CalibratedClassifierCV             122.59  \n",
       "LinearSVC                           36.57  \n",
       "RidgeClassifier                      0.63  \n",
       "RidgeClassifierCV                    0.71  \n",
       "BernoulliNB                          0.62  \n",
       "DummyClassifier                      0.32  "
      ]
     },
     "execution_count": 15,
     "metadata": {},
     "output_type": "execute_result"
    }
   ],
   "source": [
    "models"
   ]
  },
  {
   "cell_type": "code",
   "execution_count": 16,
   "id": "cf214f77",
   "metadata": {},
   "outputs": [],
   "source": [
    "#models.to_csv(r\"D:\\wine_review\\output\\model_result.csv\")"
   ]
  },
  {
   "cell_type": "code",
   "execution_count": 17,
   "id": "eda6a22a",
   "metadata": {},
   "outputs": [
    {
     "name": "stdout",
     "output_type": "stream",
     "text": [
      "Best hyperparameters:  {'n_estimators': 100, 'min_samples_split': 2, 'min_samples_leaf': 1, 'max_features': 'sqrt', 'max_depth': None, 'bootstrap': False}\n"
     ]
    }
   ],
   "source": [
    "from sklearn.ensemble import RandomForestClassifier\n",
    "from sklearn.model_selection import RandomizedSearchCV\n",
    "\n",
    "param_grid = {\n",
    "    'n_estimators': [50, 100, 200, 300, 400, 500],\n",
    "    'max_depth': [5, 10, 15, 20, 25, 30, None],\n",
    "    'max_features': ['auto', 'sqrt'],\n",
    "    'min_samples_split': [2, 5, 10],\n",
    "    'min_samples_leaf': [1, 2, 4],\n",
    "    'bootstrap': [True, False]\n",
    "}\n",
    "\n",
    "# Create a random forest classifier object\n",
    "rf = RandomForestClassifier()\n",
    "\n",
    "# Create a RandomizedSearchCV object\n",
    "random_search = RandomizedSearchCV(rf, param_distributions=param_grid,\n",
    "                                   n_iter=10, cv=5, random_state=42)\n",
    "\n",
    "# Fit the RandomizedSearchCV object to the data\n",
    "random_search.fit(X_train,y_train)\n",
    "\n",
    "# Print the best hyperparameters\n",
    "print(\"Best hyperparameters: \", random_search.best_params_)"
   ]
  },
  {
   "cell_type": "code",
   "execution_count": 20,
   "id": "5226b4b2",
   "metadata": {},
   "outputs": [
    {
     "name": "stdout",
     "output_type": "stream",
     "text": [
      "Best Score: 0.7568677213550188\n"
     ]
    }
   ],
   "source": [
    "print('Best Score:', random_search.best_score_)\n",
    "#y_pred = grid_search.predict(X_test)"
   ]
  },
  {
   "cell_type": "code",
   "execution_count": 22,
   "id": "4177caef",
   "metadata": {},
   "outputs": [],
   "source": [
    "y_pred = random_search.predict(X_test)"
   ]
  },
  {
   "cell_type": "code",
   "execution_count": 28,
   "id": "144211cd",
   "metadata": {},
   "outputs": [
    {
     "name": "stdout",
     "output_type": "stream",
     "text": [
      "                     precision    recall  f1-score   support\n",
      "\n",
      "    Excellent wines       0.81      0.84      0.82     11059\n",
      "    Very Good wines       0.89      0.68      0.77       216\n",
      "         Good wines       0.77      0.80      0.78     10198\n",
      "      Average wines       0.84      0.69      0.76      2472\n",
      "Under Average wines       0.78      0.73      0.75      3502\n",
      "\n",
      "           accuracy                           0.79     27447\n",
      "          macro avg       0.82      0.75      0.78     27447\n",
      "       weighted avg       0.79      0.79      0.79     27447\n",
      "\n"
     ]
    }
   ],
   "source": [
    "from sklearn.metrics import classification_report, confusion_matrix\n",
    "class_ = list(data['quality'].unique())\n"
   ]
  },
  {
   "cell_type": "code",
   "execution_count": 46,
   "id": "438a6ebf",
   "metadata": {},
   "outputs": [],
   "source": [
    "report = classification_report(y_test, y_pred, target_names=[i.replace(\" wines\",\"\").replace(\" \",\"_\") for i in class_])"
   ]
  },
  {
   "cell_type": "code",
   "execution_count": 70,
   "id": "057768b6",
   "metadata": {},
   "outputs": [
    {
     "name": "stdout",
     "output_type": "stream",
     "text": [
      "[['Excellent', '0.81', '0.84', '0.82', '11059'], ['Very_Good', '0.89', '0.68', '0.77', '216'], ['Good', '0.77', '0.80', '0.78', '10198'], ['Average', '0.84', '0.69', '0.76', '2472'], ['Under_Average', '0.78', '0.73', '0.75', '3502'], [], ['accuracy', '0.79', '27447']]\n"
     ]
    }
   ],
   "source": [
    "# Split report into rows\n",
    "rows = report.split('\\n')\n",
    "row_list = [row.split() for row in rows[2:-3]]\n",
    "print(row_list)\n",
    "# Create DataFrame\n",
    "df = pd.DataFrame(row_list, columns=['class', 'precision', 'recall', 'f1-score', 'support'])\n",
    "\n",
    "# Set index to class names\n",
    "df.set_index('class', inplace=True)\n",
    "\n",
    "# Convert columns to numeric types\n",
    "df = df.apply(pd.to_numeric, errors='ignore')"
   ]
  },
  {
   "cell_type": "code",
   "execution_count": 76,
   "id": "09a25b6f",
   "metadata": {},
   "outputs": [],
   "source": [
    "df_1 = df.reset_index()\n",
    "df_1 = df_1[~df_1[\"class\"].isin([None,\"accuracy\"])]\n",
    "df_1[\"class\"]=df_1[\"class\"].str.replace(\"_\",\" \")\n",
    "df_1.to_csv(r\"D:\\wine_review\\output\\evaluation_metrics.csv\",index=False)"
   ]
  },
  {
   "cell_type": "code",
   "execution_count": 77,
   "id": "0863f865",
   "metadata": {},
   "outputs": [
    {
     "data": {
      "text/html": [
       "<div>\n",
       "<style scoped>\n",
       "    .dataframe tbody tr th:only-of-type {\n",
       "        vertical-align: middle;\n",
       "    }\n",
       "\n",
       "    .dataframe tbody tr th {\n",
       "        vertical-align: top;\n",
       "    }\n",
       "\n",
       "    .dataframe thead th {\n",
       "        text-align: right;\n",
       "    }\n",
       "</style>\n",
       "<table border=\"1\" class=\"dataframe\">\n",
       "  <thead>\n",
       "    <tr style=\"text-align: right;\">\n",
       "      <th></th>\n",
       "      <th>class</th>\n",
       "      <th>precision</th>\n",
       "      <th>recall</th>\n",
       "      <th>f1-score</th>\n",
       "      <th>support</th>\n",
       "    </tr>\n",
       "  </thead>\n",
       "  <tbody>\n",
       "    <tr>\n",
       "      <th>0</th>\n",
       "      <td>Excellent</td>\n",
       "      <td>0.81</td>\n",
       "      <td>0.84</td>\n",
       "      <td>0.82</td>\n",
       "      <td>11059.00</td>\n",
       "    </tr>\n",
       "    <tr>\n",
       "      <th>1</th>\n",
       "      <td>Very Good</td>\n",
       "      <td>0.89</td>\n",
       "      <td>0.68</td>\n",
       "      <td>0.77</td>\n",
       "      <td>216.00</td>\n",
       "    </tr>\n",
       "    <tr>\n",
       "      <th>2</th>\n",
       "      <td>Good</td>\n",
       "      <td>0.77</td>\n",
       "      <td>0.80</td>\n",
       "      <td>0.78</td>\n",
       "      <td>10198.00</td>\n",
       "    </tr>\n",
       "    <tr>\n",
       "      <th>3</th>\n",
       "      <td>Average</td>\n",
       "      <td>0.84</td>\n",
       "      <td>0.69</td>\n",
       "      <td>0.76</td>\n",
       "      <td>2472.00</td>\n",
       "    </tr>\n",
       "    <tr>\n",
       "      <th>4</th>\n",
       "      <td>Under Average</td>\n",
       "      <td>0.78</td>\n",
       "      <td>0.73</td>\n",
       "      <td>0.75</td>\n",
       "      <td>3502.00</td>\n",
       "    </tr>\n",
       "  </tbody>\n",
       "</table>\n",
       "</div>"
      ],
      "text/plain": [
       "           class  precision  recall  f1-score  support\n",
       "0      Excellent       0.81    0.84      0.82 11059.00\n",
       "1      Very Good       0.89    0.68      0.77   216.00\n",
       "2           Good       0.77    0.80      0.78 10198.00\n",
       "3        Average       0.84    0.69      0.76  2472.00\n",
       "4  Under Average       0.78    0.73      0.75  3502.00"
      ]
     },
     "execution_count": 77,
     "metadata": {},
     "output_type": "execute_result"
    }
   ],
   "source": [
    "df_1"
   ]
  },
  {
   "cell_type": "code",
   "execution_count": null,
   "id": "deb83170",
   "metadata": {},
   "outputs": [],
   "source": []
  }
 ],
 "metadata": {
  "kernelspec": {
   "display_name": "Python 3 (ipykernel)",
   "language": "python",
   "name": "python3"
  },
  "language_info": {
   "codemirror_mode": {
    "name": "ipython",
    "version": 3
   },
   "file_extension": ".py",
   "mimetype": "text/x-python",
   "name": "python",
   "nbconvert_exporter": "python",
   "pygments_lexer": "ipython3",
   "version": "3.9.7"
  }
 },
 "nbformat": 4,
 "nbformat_minor": 5
}
